{
  "nbformat": 4,
  "nbformat_minor": 0,
  "metadata": {
    "colab": {
      "provenance": [],
      "collapsed_sections": [],
      "authorship_tag": "ABX9TyOTlHl/KGQ+Vq4eRPCNRFG/",
      "include_colab_link": true
    },
    "kernelspec": {
      "name": "python3",
      "display_name": "Python 3"
    },
    "language_info": {
      "name": "python"
    }
  },
  "cells": [
    {
      "cell_type": "markdown",
      "metadata": {
        "id": "view-in-github",
        "colab_type": "text"
      },
      "source": [
        "<a href=\"https://colab.research.google.com/github/vvvin333/blackify_dict_list/blob/master/blackify_dict_list.ipynb\" target=\"_parent\"><img src=\"https://colab.research.google.com/assets/colab-badge.svg\" alt=\"Open In Colab\"/></a>"
      ]
    },
    {
      "cell_type": "code",
      "execution_count": 3,
      "metadata": {
        "colab": {
          "base_uri": "https://localhost:8080/"
        },
        "id": "77nldjJ9SByu",
        "outputId": "cbeaa207-07da-4345-a803-c17263a0a49f"
      },
      "outputs": [
        {
          "output_type": "stream",
          "name": "stdout",
          "text": [
            "{\n",
            "    \"1\": 1,\n",
            "    \"2\": {\n",
            "        \"23\": 2,\n",
            "        \"0\": None,\n",
            "    },\n",
            "    \"list_data\": [\n",
            "        \"1\",\n",
            "        \"2\",\n",
            "        \"3\",\n",
            "        \"4\",\n",
            "        \"5\",\n",
            "    ],\n",
            "}\n"
          ]
        }
      ],
      "source": [
        "import json\n",
        "import re\n",
        "\n",
        "\n",
        "def _add_trailing_comma_in_dict_list(\n",
        "    text: str, find_character: str = \"}\"\n",
        ") -> str:\n",
        "    re_exp = r\"[\\s]+\" + find_character\n",
        "    for count, finding in enumerate(re.compile(re_exp).finditer(text)):\n",
        "        re_position = finding.start() + count\n",
        "        text = f\"{text[:re_position]},{text[re_position:]}\"\n",
        "    return text\n",
        "\n",
        "\n",
        "def add_trailing_comma_in_dict_list(data) -> str:\n",
        "    result = json.dumps(data, indent=4)\n",
        "    result = result.replace(\"null\", \"None\")\n",
        "    result = _add_trailing_comma_in_dict_list(result, \"}\")\n",
        "    return _add_trailing_comma_in_dict_list(result, \"]\")\n",
        "\n",
        "dict_data = {\n",
        "  \"1\":1,\n",
        "  \"2\": {\n",
        "    \"23\": 2,\n",
        "    \"0\": None\n",
        "  },\n",
        "  \"list_data\":[\n",
        "      \"1\", \"2\", \"3\", \"4\", \"5\"\n",
        "  ]\n",
        "}\n",
        "\n",
        "\n",
        "print(add_trailing_comma_in_dict_list(dict_data))"
      ]
    },
    {
      "cell_type": "code",
      "source": [],
      "metadata": {
        "id": "-FFOOxuqSCvQ"
      },
      "execution_count": null,
      "outputs": []
    }
  ]
}